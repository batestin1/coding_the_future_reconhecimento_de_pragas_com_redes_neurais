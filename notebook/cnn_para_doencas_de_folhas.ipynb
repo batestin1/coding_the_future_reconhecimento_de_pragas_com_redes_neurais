{
  "cells": [
    {
      "cell_type": "markdown",
      "metadata": {
        "id": "0W0JSA7WyST3"
      },
      "source": [
        "# Redes Neurais Convolucionais"
      ]
    },
    {
      "cell_type": "markdown",
      "source": [
        "#### Origem do Dataset\n",
        "\n",
        "1. [Repositório Digipathos](https://www.digipathos-rep.cnptia.embrapa.br/jspui/handle/123456789/2)"
      ],
      "metadata": {
        "id": "vUDTytzFmPJf"
      }
    },
    {
      "cell_type": "markdown",
      "source": [
        "# Links Úteis\n",
        "\n",
        "1. [Doenças de Tomate - Embrapa](https://www.embrapa.br/busca-de-publicacoes/-/publicacao/1135499/doencas-do-tomateiro)"
      ],
      "metadata": {
        "id": "ErnYrPYxJ83V"
      }
    },
    {
      "cell_type": "markdown",
      "metadata": {
        "id": "0BGseAaqBhOx"
      },
      "source": [
        "### Descriçao\n",
        "\n",
        "---\n",
        "1. O objetivo deste notebook é Redes Neurais Convolucionais.\n",
        "2. Os dados para usar serão clonados do nosso próprio github, pela pasta dataset.\n",
        "3. Vamos treinar nosso modelo para que ele aprenda a detectar doença em plantações de tomate.\n",
        "---"
      ]
    },
    {
      "cell_type": "markdown",
      "metadata": {
        "id": "2OHIGu7EB25Y"
      },
      "source": [
        "### Dicionário\n",
        "\n",
        "\n",
        "Class\t                                                  | Type  \t  |    Description                              | Link para mais informações |\n",
        "----------------------------------------------------------|:---------:|:-------------------------------------------:|:---------------------------:|\n",
        "virus_mosaico_do_tomate_Y  \t  \t\t\t\t\t\t\t\t\t\t  \t  |Class     | O agente causal da risca-do-tomateiro (PVY) ocorre de forma restrita em lavoruas de tomate no Brasil. São poucas as plantas hospedeiras do vírus. A transmissão é feita por pulgões, que adquirem o vírus em uma planta doente.\t                    | [Link](https://www.embrapa.br/agencia-de-informacao-tecnologica/cultivos/tomate/producao/doencas-e-pragas/doencas/virus/mosaico-do-virus-y) |\n",
        "mancha_alvo\t\t\t\t\t\t\t\t\t\t\t\t\t\t  |Class    | A mancha-alvo, causada pelo fungo Corynespora cassiicola, é uma das principais doenças da soja e uma grande ameaça à agricultura brasileira, uma vez que sua incidência vem aumentando nas últimas safras.                         | [Link](https://agriculture.basf.com/br/pt/conteudos/cultivos-e-sementes/soja/mancha-alvo-principais-sintomas.html) |\n",
        "mancha_bacteriana\t\t     \t\t\t\t\t\t\t\t\t\t  |Class     | A mancha-bacteriana é uma bacteriose de importância econômica secundária para a cultura da berinjela, jiló, pimenta e tomate, porém causa grandes perdas na cultura do pimentão. Danos: A bactéria pode ocorrer em todos os estágios de desenvolvimento da planta.\t                | [Link](https://www.agrolink.com.br/problemas/mancha-bacteriana_1666.html) |\n",
        "virus_folha_amarela  | Class | A doença da folha amarela, uma das principais pragas da cana-de-açúcar no Brasil, é causada por um vírus resistente ao tratamento térmico transmitido pelo pulgão Melanaphis sacchari | [Link](https://www.agrolink.com.br/noticias/estudo-busca-resistencia-a-doenca-da-folha-amarela_457815.html) |\n",
        "requeima  | Class | A requeima causa manchas encharcadas, grandes e escuras nas folhas e nas brotações jovens, evoluindo para uma \"queima\" ou \"mela\" geral da planta (Figura 1). Na face inferior da lesão observa-se um mofo pulverulento esbranquiçado, que é a esporulação do fungo. Nos frutos, a prodidão é dura, de coloração marrom-escura. | [Link](https://www.embrapa.br/agencia-de-informacao-tecnologica/cultivos/tomate/producao/doencas-e-pragas/doencas/fungo/requeima) |\n",
        "enrolamento_de_folha | Class | O sintoma do enrolamento da folha pode ocorrer em plantas jovens produzidas sob cobertura e plantadas no campo durante os períodos úmidos. Geralmente é observado mais tarde, em plantas com pelo menos 3 buquês e no período de verão. | [Link](http://ephytia.inra.fr/pt/C/5334/Tomate-Enrolamento-Fisiologico-das-Folhas) |\n",
        "pinta_preta | Class | A pinta preta, causada por Alteranaria solani, é uma das doenças mais importantes na cultura do tomate. Manejá-la exige a integração de medidas que incluem o uso de fungicidas aplicados preventivamente ou assim que aparecerem os primeiros sintomas. | [Link](https://revistacultivar.com.br/artigos/como-controlar-pinta-preta-no-tomateiro) |\n",
        "acaros | Class | Costuma se alojar na face inferior de folíolos – onde deposita seus ovos – e brotos, na região apical da planta. Infesta qualquer estádio de desenvolvimento do tomateiro. Adultos e ninfas perfuram e sugam as células da epiderme vegetal. | [Link](https://agriculture.basf.com/br/pt/conteudos/cultivos-e-sementes/tomate/tipos-acaro.html) |\n",
        "folhas_saudaveis   | Class | Saúde dos Tomates\n",
        "mancha_septoria   | Class | A septoriose ou mancha-de-septoria é uma doença importante do tomateiro nas épocas de chuva, ocorrendo em quase todas as regiões produtoras do Brasil e do mundo (Jones et al., 1991; Kurozawa & Pavan, 1997; Zambolim et al., 2000). | [Link](https://ainfo.cnptia.embrapa.br/digital/bitstream/item/103062/1/cot-37.pdf)|\n",
        "\n"
      ]
    },
    {
      "cell_type": "markdown",
      "source": [
        "# Documentação\n",
        "\n",
        "1. ** Pandas ** -> [Link](https://pandas.pydata.org/docs/)\n",
        "2. ** Numpy ** -> [Link](https://numpy.org/doc/)\n",
        "4. ** Scikit Learn ** -> [Link](https://scikit-learn.org/stable/)\n",
        "5. ** Keras ** -> [Link](https://keras.io/api/)\n",
        "6. ** Tensor Flow ** -> [Tensor Flow](https://www.tensorflow.org/api_docs/python/tf/keras)\n",
        "7. ** Plotly ** -> [Link](https://plotly.com/python/imshow/)\n",
        "8. ** cv2 ** -> [Link](https://pypi.org/project/opencv-python/)"
      ],
      "metadata": {
        "id": "iM7gVPddWylD"
      }
    },
    {
      "cell_type": "markdown",
      "metadata": {
        "id": "-4GkP4zAB5D6"
      },
      "source": [
        "# Instalação de pacotes"
      ]
    },
    {
      "cell_type": "code",
      "execution_count": null,
      "metadata": {
        "id": "vcmBuoIs0Qrk"
      },
      "outputs": [],
      "source": [
        "!pip install pandas numpy keras cv2 plotly scikit-learn keras tensorflow"
      ]
    },
    {
      "cell_type": "markdown",
      "metadata": {
        "id": "6KVRo2QhCMpE"
      },
      "source": [
        "# Obtendo o dataset"
      ]
    },
    {
      "cell_type": "code",
      "execution_count": null,
      "metadata": {
        "id": "kJgY2Sd60_x2"
      },
      "outputs": [],
      "source": [
        "!git clone https://github.com/batestin1/coding_the_future_reconhecimento_de_pragas_com_redes_neurais.git clone #clona o repositorio\n",
        "!mv clone/dataset /content/\n",
        "!mv clone/modelos /content/models\n",
        "!rm -rf clone\n",
        "!rm -rf modelos\n",
        "!rm -rf sample_data\n",
        "\n"
      ]
    },
    {
      "cell_type": "markdown",
      "metadata": {
        "id": "igTRMPADEQ6p"
      },
      "source": [
        "# Bibliotecas"
      ]
    },
    {
      "cell_type": "code",
      "execution_count": null,
      "metadata": {
        "id": "J-Y0HTwLyUtt"
      },
      "outputs": [],
      "source": [
        "import numpy as np #para criação de matrizes\n",
        "import os #para manipulação de folders e arquivos\n",
        "import cv2 #para manipular imagens\n",
        "from keras.models import Sequential #para iniciar nossa rede neural\n",
        "from keras.layers import Conv2D #o metodo convolucional\n",
        "from keras.layers import MaxPooling2D #etapa de max pooling\n",
        "from keras.layers import Flatten #etapa de flatting\n",
        "from keras.layers import Dense #para criacao das redes\n",
        "from keras.layers import Dropout #para ajustar o overfitting\n",
        "from keras.preprocessing import image #para testar o resultado\n",
        "from keras.layers.experimental.preprocessing import Rescaling #para transformar RGB em 0 e 1\n",
        "from keras.preprocessing.image import ImageDataGenerator # Para o pre-processamento de imagens\n",
        "from tensorflow.keras.utils import plot_model #para visualizar nossa rede!\n",
        "from keras.models import load_model #para salvar modelos do keras\n",
        "\n",
        "import matplotlib.pyplot as plt #para visualizacao das imagens de forma grafica\n",
        "\n",
        "from PIL import Image, ImageOps  # Para modelo externo\n"
      ]
    },
    {
      "cell_type": "markdown",
      "source": [
        "# Conhecendo as imagens"
      ],
      "metadata": {
        "id": "BvMe6NrAaUdL"
      }
    },
    {
      "cell_type": "code",
      "source": [
        "\n",
        "imagem = cv2.imread('/content/dataset/train/mancha_septoria/184031fe-22fe-479d-bb2d-9bb7122d60a9___Matt.S_CG 0881.JPG')\n",
        "imagem"
      ],
      "metadata": {
        "id": "t5zWKVQRaXtR"
      },
      "execution_count": null,
      "outputs": []
    },
    {
      "cell_type": "code",
      "source": [
        "imagem.shape #pega a forma da imagem"
      ],
      "metadata": {
        "id": "79sHHbThafUQ"
      },
      "execution_count": null,
      "outputs": []
    },
    {
      "cell_type": "code",
      "source": [
        "\n",
        "\n",
        "plt.imshow(imagem) #visualizando as imagens\n",
        "plt.show()"
      ],
      "metadata": {
        "id": "wU9KulmcbZ5K"
      },
      "execution_count": null,
      "outputs": []
    },
    {
      "cell_type": "code",
      "source": [
        "cv2.resize(imagem, (500,500)) #remodulando a imagem"
      ],
      "metadata": {
        "id": "M9A0krZU29kk"
      },
      "execution_count": null,
      "outputs": []
    },
    {
      "cell_type": "markdown",
      "source": [
        "# Pre Processamento das Imagens e Análises dela"
      ],
      "metadata": {
        "id": "YYgcldRXUJ41"
      }
    },
    {
      "cell_type": "code",
      "source": [
        "train = ImageDataGenerator(rescale=1/255.0) #criando um objeto train_test com valor de convergencia, ou se preferir, normalizando as imagens de 1 a 255\n",
        "test = ImageDataGenerator(rescale=1/255.0) #criando um objeto train_test com valor de convergencia, ou se preferir, normalizando as imagens de 1 a 255"
      ],
      "metadata": {
        "id": "9spyRAg6UNos"
      },
      "execution_count": null,
      "outputs": []
    },
    {
      "cell_type": "code",
      "source": [
        "train #para visualizar o objeto"
      ],
      "metadata": {
        "id": "oOrSvjLEII9M"
      },
      "execution_count": null,
      "outputs": []
    },
    {
      "cell_type": "code",
      "source": [
        "#criando nosso gerador de treino e teste\n",
        "\n",
        "conjunto_treino = train.flow_from_directory('/content/dataset/train', target_size=(256,256),batch_size=32,class_mode='categorical')\n",
        "\n",
        "conjunto_teste = test.flow_from_directory('/content/dataset/test', target_size=(256,256),batch_size=32,class_mode='categorical')"
      ],
      "metadata": {
        "id": "7skUgk27Uj-4"
      },
      "execution_count": null,
      "outputs": []
    },
    {
      "cell_type": "code",
      "source": [
        "conjunto_treino.class_indices #visualizando nossas classes, e os valores de cada uma"
      ],
      "metadata": {
        "id": "lDlasMspUnzc"
      },
      "execution_count": null,
      "outputs": []
    },
    {
      "cell_type": "code",
      "source": [
        "conjunto_treino[0]"
      ],
      "metadata": {
        "id": "a228GD8_rBwp"
      },
      "execution_count": null,
      "outputs": []
    },
    {
      "cell_type": "code",
      "source": [
        "len(conjunto_treino)"
      ],
      "metadata": {
        "id": "RkN2Mwv2r8Nx"
      },
      "execution_count": null,
      "outputs": []
    },
    {
      "cell_type": "code",
      "source": [
        "conjunto_treino[0][0][2]"
      ],
      "metadata": {
        "id": "7gbWO6hQvHxc"
      },
      "execution_count": null,
      "outputs": []
    },
    {
      "cell_type": "code",
      "source": [
        "conjunto_treino[0][1][2]"
      ],
      "metadata": {
        "id": "eWeYkAWovf7A"
      },
      "execution_count": null,
      "outputs": []
    },
    {
      "cell_type": "code",
      "source": [
        "conjunto_treino.image_shape #visualizando o formato do nosso conjunto de treino"
      ],
      "metadata": {
        "id": "FYH3dXuTUqd8"
      },
      "execution_count": null,
      "outputs": []
    },
    {
      "cell_type": "code",
      "source": [
        "#conjunto_treino.shape"
      ],
      "metadata": {
        "id": "-UXtaKacyohj"
      },
      "execution_count": null,
      "outputs": []
    },
    {
      "cell_type": "code",
      "source": [
        "plt.imshow(conjunto_treino[0][0][0]) #visualizando as imagens\n",
        "plt.show()"
      ],
      "metadata": {
        "id": "sD3gEuNfUuh1"
      },
      "execution_count": null,
      "outputs": []
    },
    {
      "cell_type": "code",
      "source": [
        "labels = [k for k in conjunto_treino.class_indices] #atribuindo a variavel label, os nome das nossas classes\n",
        "\n",
        "labels"
      ],
      "metadata": {
        "id": "OwOQtkTeV2tM"
      },
      "execution_count": null,
      "outputs": []
    },
    {
      "cell_type": "code",
      "source": [
        "amostra_de_treino = conjunto_treino.__next__()"
      ],
      "metadata": {
        "id": "Rl0B7BXeZ2CU"
      },
      "execution_count": null,
      "outputs": []
    },
    {
      "cell_type": "code",
      "source": [
        "images = amostra_de_treino[0] # aqui é só a matriz de imagens\n",
        "nomes = amostra_de_treino[1] #aqui é só a matriz das classes"
      ],
      "metadata": {
        "id": "qCrl9AhFaRmZ"
      },
      "execution_count": null,
      "outputs": []
    },
    {
      "cell_type": "code",
      "source": [
        "#visualizando nossas imagens, agora com subplots\n",
        "\n",
        "plt.figure(figsize = (20 , 20))\n",
        "\n",
        "for i in range(15):\n",
        "    plt.subplot(5 , 5, i+1)\n",
        "    plt.subplots_adjust(hspace = 0.3 , wspace = 0.3)\n",
        "    plt.imshow(images[i])\n",
        "    plt.title(f'Class: {labels[np.argmax(nomes[i],axis=0)]}')\n",
        "    plt.axis(\"off\")"
      ],
      "metadata": {
        "id": "byaUPrkQVA0R"
      },
      "execution_count": null,
      "outputs": []
    },
    {
      "cell_type": "markdown",
      "metadata": {
        "id": "iqnN4z8OEzym"
      },
      "source": [
        "# Construindo a CNN"
      ]
    },
    {
      "cell_type": "code",
      "execution_count": null,
      "metadata": {
        "id": "SZWXBuX3FEa8"
      },
      "outputs": [],
      "source": [
        "# Inicializando a rede\n",
        "cnn = Sequential()"
      ]
    },
    {
      "cell_type": "code",
      "source": [
        "cnn"
      ],
      "metadata": {
        "id": "Cd2pbsD-IhJq"
      },
      "execution_count": null,
      "outputs": []
    },
    {
      "cell_type": "code",
      "source": [
        "#Adicionando camadas de convolução\n",
        "# Conv2D(32, (3, 3) O primeiro parametro (32) é o número de detectores de caracteristica. O (3,3) é filter detecter\n",
        "cnn.add(Conv2D(filters=32, kernel_size=(3, 3), activation='relu', input_shape=[256, 256, 3], name='Camada_Convolucional_1'))"
      ],
      "metadata": {
        "id": "H4I0whUEcpzz"
      },
      "execution_count": null,
      "outputs": []
    },
    {
      "cell_type": "code",
      "source": [
        "#adicionando a camada de pooling\n",
        "cnn.add(MaxPooling2D(pool_size=(2, 2), strides=2, padding='valid', name='Camada_MaxPooling_1'))"
      ],
      "metadata": {
        "id": "AUPgLC7VP5C2"
      },
      "execution_count": null,
      "outputs": []
    },
    {
      "cell_type": "code",
      "source": [
        "#adicionando a segunda camada de convolução\n",
        "#se a primeira aplicamos 32 filtros, a segunda duplicamos\n",
        "cnn.add(Conv2D(filters=64, kernel_size=(3, 3), activation='relu', name='Camada_Convolucional_2'))\n",
        "\n"
      ],
      "metadata": {
        "id": "JevUT1seRZDh"
      },
      "execution_count": null,
      "outputs": []
    },
    {
      "cell_type": "code",
      "source": [
        "#adicionando a segunda camada de pooling\n",
        "cnn.add(MaxPooling2D(pool_size=(2, 2), strides=2, padding='valid', name='Camada_MaxPooling_2'))"
      ],
      "metadata": {
        "id": "u-W5l75uRrLI"
      },
      "execution_count": null,
      "outputs": []
    },
    {
      "cell_type": "code",
      "source": [
        "#adicionando a camada de flattening\n",
        "\n",
        "cnn.add(Flatten(name='Camada_Flattening')) #flattening nao precisa ajustar paramentros\n"
      ],
      "metadata": {
        "id": "Kd7_EAFWRxNV"
      },
      "execution_count": null,
      "outputs": []
    },
    {
      "cell_type": "code",
      "source": [
        "#adicionando o full connect (a camada oculta)\n",
        "\n",
        "cnn.add(Dense(units=1024, activation='relu', name='Camada_FullConnect'))"
      ],
      "metadata": {
        "id": "wHpxGIX1R9Gb"
      },
      "execution_count": null,
      "outputs": []
    },
    {
      "cell_type": "code",
      "source": [
        "#para corrigir overvitting\n",
        "cnn.add(Dropout(rate = 0.5, name='Camada_de_Dropout'))"
      ],
      "metadata": {
        "id": "454XhkReSQ_s"
      },
      "execution_count": null,
      "outputs": []
    },
    {
      "cell_type": "code",
      "source": [
        "#camada de saída\n",
        "\n",
        "cnn.add(Dense(units = 10, activation = 'softmax', name='Camada_de_saida'))"
      ],
      "metadata": {
        "id": "cBiP_buDSWOd"
      },
      "execution_count": null,
      "outputs": []
    },
    {
      "cell_type": "code",
      "source": [
        "#visualizando nossa rede\n",
        "cnn.summary()"
      ],
      "metadata": {
        "id": "edZ5Z37aToLv"
      },
      "execution_count": null,
      "outputs": []
    },
    {
      "cell_type": "code",
      "source": [
        "# Copilando a rede\n",
        "cnn.compile(optimizer='adam', loss='binary_crossentropy', metrics=['accuracy'])"
      ],
      "metadata": {
        "id": "2VZwFdiZS52x"
      },
      "execution_count": null,
      "outputs": []
    },
    {
      "cell_type": "code",
      "source": [
        "#treinando a rede\n",
        "cnn.fit(x = conjunto_treino, epochs = 10)\n"
      ],
      "metadata": {
        "id": "tqLLP2TZbajK"
      },
      "execution_count": null,
      "outputs": []
    },
    {
      "cell_type": "markdown",
      "source": [
        "# Teste"
      ],
      "metadata": {
        "id": "U63DGWTOc0lw"
      }
    },
    {
      "cell_type": "code",
      "execution_count": null,
      "metadata": {
        "id": "WHbun15XGGnp"
      },
      "outputs": [],
      "source": [
        "resposta = cnn.predict(conjunto_teste)"
      ]
    },
    {
      "cell_type": "code",
      "source": [
        "cnn.evaluate(conjunto_teste)"
      ],
      "metadata": {
        "id": "zkj2jj-MdIk6"
      },
      "execution_count": null,
      "outputs": []
    },
    {
      "cell_type": "code",
      "source": [
        "# Testando na pratica\n",
        "\n",
        "imagem = conjunto_teste[0][0][0]\n",
        "plt.imshow(imagem)\n",
        "plt.show()"
      ],
      "metadata": {
        "id": "EHCQShcWdUYM"
      },
      "execution_count": null,
      "outputs": []
    },
    {
      "cell_type": "code",
      "source": [
        "conjunto_teste[0][0][0].shape"
      ],
      "metadata": {
        "id": "59SHvSMDhiNa"
      },
      "execution_count": null,
      "outputs": []
    },
    {
      "cell_type": "code",
      "source": [
        "conjunto_treino.class_indices"
      ],
      "metadata": {
        "id": "G8YSaJYceor1"
      },
      "execution_count": null,
      "outputs": []
    },
    {
      "cell_type": "code",
      "source": [
        "\n",
        "def predict_image(img_path):\n",
        "  img = image.load_img(img_path, target_size=(256, 256))  # Use o mesmo tamanho usado para treino\n",
        "  img_array = image.img_to_array(img)\n",
        "  img_array = np.expand_dims(img_array, axis=0)\n",
        "\n",
        "  # Normalizar a imagem se necessário\n",
        "  img_array /= 255.0  # Normalização pode variar dependendo do preprocessamento\n",
        "\n",
        "  # Fazer a previsão\n",
        "  prediction = cnn.predict(img_array)\n",
        "\n",
        "  # Obter o índice da classe com a maior probabilidade\n",
        "  predicted_class = np.argmax(prediction, axis=1)[0]\n",
        "\n",
        "  for keys, values in conjunto_treino.class_indices.items():\n",
        "    if values == predicted_class:\n",
        "      if values == 0:\n",
        "        return f\"A imagem é referente a doenca de {keys.replace('_','').upper()} e o cuidado para tal você pode encontrar aqui: https://agriculture.basf.com/br/pt/conteudos/cultivos-e-sementes/tomate/tipos-acaro.html\"\n",
        "      if values == 1:\n",
        "        return f\"A imagem é referente a doenca de {keys.replace('_','').upper()} e o cuidado para tal você pode encontrar aqui: http://ephytia.inra.fr/pt/C/5334/Tomate-Enrolamento-Fisiologico-das-Folhas\"\n",
        "      if values == 2:\n",
        "        return f\"A imagem refere-se a uma folha saúdavel\"\n",
        "      if values == 3:\n",
        "        return f\"A imagem é referente a doenca de {keys.replace('_',' ').upper()} e o cuidado para tal você pode encontrar aqui: https://agriculture.basf.com/br/pt/conteudos/cultivos-e-sementes/soja/mancha-alvo-principais-sintomas.html\"\n",
        "      if values == 4:\n",
        "        return f\"A imagem é referente a doenca de {keys.replace('_',' ').upper()} e o cuidado para tal você pode encontrar aqui: https://www.agrolink.com.br/problemas/mancha-bacteriana_1666.html\"\n",
        "      if values == 5:\n",
        "        return f\"A imagem é referente a doenca de {keys.replace('_',' ').upper()} e o cuidado para tal você pode encontrar aqui: https://agriculture.basf.com/br/pt/conteudos/cultivos-e-sementes/tomate/saiba-mais-sobre-a-septoriose-na-cultura-do-tomate-e-manejo.html\"\n",
        "      if values == 6:\n",
        "        return f\"A imagem é referente a doenca de {keys.replace('_',' ').upper()} e o cuidado para tal você pode encontrar aqui: https://revistacultivar.com.br/artigos/como-controlar-pinta-preta-no-tomateiro\"\n",
        "      if values == 7:\n",
        "        return f\"A imagem é referente a doenca de {keys.replace('_',' ').upper()} e o cuidado para tal você pode encontrar aqui: https://revistacultivar.com.br/artigos/manejo-de-requeima-em-tomate\"\n",
        "      if values == 8:\n",
        "        return f\"A imagem é referente a doenca de {keys.replace('_',' ').upper()} e o cuidado para tal você pode encontrar aqui: https://plantix.net/pt/library/plant-diseases/200036/tomato-yellow-leaf-curl-virus/\"\n",
        "      if values == 9:\n",
        "        return f\"A imagem é referente a doenca de {keys.replace('_',' ').upper()} e o cuidado para tal você pode encontrar aqui: https://www.embrapa.br/agencia-de-informacao-tecnologica/cultivos/tomate/producao/doencas-e-pragas/doencas/virus/mosaico-do-virus-y\"\n",
        "\n",
        "\n"
      ],
      "metadata": {
        "id": "foy06D9afbor"
      },
      "execution_count": null,
      "outputs": []
    },
    {
      "cell_type": "code",
      "source": [
        "img_path = '/content/dataset/test/mancha_bacteriana/0de30b71-8bd0-4270-a65b-7ae8befdd765___GCREC_Bact.Sp 6360.JPG'\n",
        "\n",
        "predict_image(img_path)"
      ],
      "metadata": {
        "id": "_Z4-7lf7fpDY"
      },
      "execution_count": null,
      "outputs": []
    },
    {
      "cell_type": "markdown",
      "source": [
        "# Salvando o modelo"
      ],
      "metadata": {
        "id": "wbYTI6fUFZPD"
      }
    },
    {
      "cell_type": "code",
      "source": [
        "folder = 'models/cnn/'\n",
        "\n",
        "# Verifica se o diretório existe e, se não existir, cria o diretório\n",
        "if not os.path.exists(folder):\n",
        "    os.makedirs(folder)\n",
        "\n",
        "# Salva o modelo no diretório especificado\n",
        "cnn.save(os.path.join(folder, 'rede_neural_convolucional.h5'))\n",
        "#cnn.save_weights(os.path.join(folder, 'rede_neural_convolucional.h5'))"
      ],
      "metadata": {
        "id": "rbVuYp_0FXt6"
      },
      "execution_count": null,
      "outputs": []
    },
    {
      "cell_type": "markdown",
      "source": [
        "# Importando os modelos"
      ],
      "metadata": {
        "id": "b3KDU-YSGSVv"
      }
    },
    {
      "cell_type": "code",
      "source": [
        "from tensorflow.keras.models import load_model\n",
        "\n",
        "# Carregando o modelo completo\n",
        "model = load_model('/content/models/cnn/rede_neural_convolucional.h5')\n",
        "\n",
        "# Agora você pode usar o modelo carregado para inferência ou continuar o treinamento\n"
      ],
      "metadata": {
        "id": "0pIkwcPyGRdx"
      },
      "execution_count": null,
      "outputs": []
    },
    {
      "cell_type": "markdown",
      "source": [
        "# Testando a performance"
      ],
      "metadata": {
        "id": "NzIU-vDYiwdP"
      }
    },
    {
      "cell_type": "markdown",
      "metadata": {
        "id": "qDY8e3WHPam4"
      },
      "source": [
        "# Bonus Track"
      ]
    },
    {
      "cell_type": "markdown",
      "metadata": {
        "id": "s0Lj5UOwPdJF"
      },
      "source": [
        "### Você conhece o [Teachable Machine](https://teachablemachine.withgoogle.com/train)?\n",
        "\n",
        "1. Plataforma low code de treinamento de redes convolucionais\n",
        "2. exporta em modelos .h5\n",
        "3. Setup simples e intuitivo\n"
      ]
    },
    {
      "cell_type": "markdown",
      "metadata": {
        "id": "3rv48ZDOSkId"
      },
      "source": [
        "# Importando os modelos"
      ]
    },
    {
      "cell_type": "code",
      "source": [
        "\n",
        "\n",
        "def teachable_machine_model(image):\n",
        "    # Desative a notação científica para maior clareza\n",
        "    np.set_printoptions(suppress=True)\n",
        "\n",
        "    # Carregando modelos\n",
        "    model = load_model(\"/content/models/converted_keras/keras_model.h5\", compile=False)\n",
        "\n",
        "    # Carregando as classes\n",
        "    class_names = open(\"/content/models/converted_keras/labels.txt\", \"r\").readlines()\n",
        "\n",
        "    # Crie o array com a forma correta para alimentar o modelo keras\n",
        "    data = np.ndarray(shape=(1, 224, 224, 3), dtype=np.float32)\n",
        "\n",
        "    # Redimensionar a imagem para pelo menos 224x224 e depois cortar a partir do centro\n",
        "    size = (224, 224)\n",
        "    image = ImageOps.fit(image, size, Image.Resampling.LANCZOS)\n",
        "\n",
        "    # Transformando a imagem em uma array\n",
        "    image_array = np.asarray(image)\n",
        "\n",
        "    # Normalizando a imagem\n",
        "    normalized_image_array = (image_array.astype(np.float32) / 127.5) - 1\n",
        "\n",
        "    # Carregando a imagem para dentro da array\n",
        "    data[0] = normalized_image_array\n",
        "\n",
        "    # Modelo Preditivo\n",
        "    prediction = model.predict(data)\n",
        "    index = np.argmax(prediction)\n",
        "    class_name = class_names[index]\n",
        "    confidence_score = prediction[0][index]\n",
        "\n",
        "    texto_confidence = \"Confidence Score:\", confidence_score\n",
        "\n",
        "    # Verifique a classe predita e defina o texto apropriado\n",
        "    if index == 0:\n",
        "        texto = f\"A imagem é referente a doenca de {class_name[2:].replace('_', ' ').upper()} e o cuidado para tal você pode encontrar aqui: https://agriculture.basf.com/br/pt/conteudos/cultivos-e-sementes/tomate/tipos-acaro.html\"\n",
        "    elif index == 1:\n",
        "        texto = f\"A imagem é referente a doenca de {class_name[2:].replace('_', ' ').upper()} e o cuidado para tal você pode encontrar aqui: http://ephytia.inra.fr/pt/C/5334/Tomate-Enrolamento-Fisiologico-das-Folhas\"\n",
        "    elif index == 2:\n",
        "        texto = \"A imagem refere-se a uma folha saudável\"\n",
        "    elif index == 3:\n",
        "        texto = f\"A imagem é referente a doenca de {class_name[2:].replace('_', ' ').upper()} e o cuidado para tal você pode encontrar aqui: https://agriculture.basf.com/br/pt/conteudos/cultivos-e-sementes/soja/mancha-alvo-principais-sintomas.html\"\n",
        "    elif index == 4:\n",
        "        texto = f\"A imagem é referente a doenca de {class_name[2:].replace('_', ' ').upper()} e o cuidado para tal você pode encontrar aqui: https://www.agrolink.com.br/problemas/mancha-bacteriana_1666.html\"\n",
        "    elif index == 5:\n",
        "        texto = f\"A imagem é referente a doenca de {class_name[2:].replace('_', ' ').upper()} e o cuidado para tal você pode encontrar aqui: https://agriculture.basf.com/br/pt/conteudos/cultivos-e-sementes/tomate/saiba-mais-sobre-a-septoriose-na-cultura-do-tomate-e-manejo.html\"\n",
        "    elif index == 6:\n",
        "        texto = f\"A imagem é referente a doenca de {class_name[2:].replace('_', ' ').upper()} e o cuidado para tal você pode encontrar aqui: https://revistacultivar.com.br/artigos/como-controlar-pinta-preta-no-tomateiro\"\n",
        "    elif index == 7:\n",
        "        texto = f\"A imagem é referente a doenca de {class_name[2:].replace('_', ' ').upper()} e o cuidado para tal você pode encontrar aqui: https://revistacultivar.com.br/artigos/manejo-de-requeima-em-tomate\"\n",
        "    elif index == 8:\n",
        "        texto = f\"A imagem é referente a doenca de {class_name[2:].replace('_', ' ').upper()} e o cuidado para tal você pode encontrar aqui: https://plantix.net/pt/library/plant-diseases/200036/tomato-yellow-leaf-curl-virus/\"\n",
        "    elif index == 9:\n",
        "        texto = f\"A imagem é referente a doenca de {class_name[2:].replace('_', ' ').upper()} e o cuidado para tal você pode encontrar aqui: https://www.embrapa.br/agencia-de-informacao-tecnologica/cultivos/tomate/producao/doencas-e-pragas/doencas/virus/mosaico-do-virus-y\"\n",
        "    else:\n",
        "        texto = \"A imagem não corresponde a nenhuma doença conhecida.\"\n",
        "\n",
        "    return texto\n",
        "\n",
        "\n"
      ],
      "metadata": {
        "id": "ZqlWkCfBjHhL"
      },
      "execution_count": null,
      "outputs": []
    },
    {
      "cell_type": "code",
      "source": [
        "# Carregue a imagem\n",
        "image = Image.open(\"/content/dataset/test/mancha_bacteriana/01a46cb5-d354-4f59-868e-e56186701541___GCREC_Bact.Sp 5638.JPG\").convert(\"RGB\")\n"
      ],
      "metadata": {
        "id": "-8tmEH62jexh"
      },
      "execution_count": null,
      "outputs": []
    },
    {
      "cell_type": "code",
      "source": [
        "teachable_machine_model(image)"
      ],
      "metadata": {
        "id": "wPNYxcYGjjma"
      },
      "execution_count": null,
      "outputs": []
    },
    {
      "cell_type": "code",
      "source": [],
      "metadata": {
        "id": "NTaKp8sb-GEc"
      },
      "execution_count": null,
      "outputs": []
    },
    {
      "cell_type": "code",
      "source": [],
      "metadata": {
        "id": "tP2KGgJa7LZJ"
      },
      "execution_count": null,
      "outputs": []
    }
  ],
  "metadata": {
    "colab": {
      "provenance": [],
      "gpuType": "T4"
    },
    "kernelspec": {
      "display_name": "Python 3",
      "name": "python3"
    },
    "language_info": {
      "name": "python"
    },
    "accelerator": "GPU"
  },
  "nbformat": 4,
  "nbformat_minor": 0
}